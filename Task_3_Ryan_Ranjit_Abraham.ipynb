{
  "cells": [
    {
      "cell_type": "code",
      "source": [
        "from google.colab import drive\n",
        "drive.mount('/content/drive')"
      ],
      "metadata": {
        "colab": {
          "base_uri": "https://localhost:8080/"
        },
        "id": "ZrDD9ExObCPm",
        "outputId": "3665e474-cdb3-4d91-d09c-ecd409b08e12"
      },
      "id": "ZrDD9ExObCPm",
      "execution_count": null,
      "outputs": [
        {
          "output_type": "stream",
          "name": "stdout",
          "text": [
            "Mounted at /content/drive\n"
          ]
        }
      ]
    },
    {
      "cell_type": "code",
      "execution_count": null,
      "id": "a38ae4c1",
      "metadata": {
        "id": "a38ae4c1"
      },
      "outputs": [],
      "source": [
        "dataset = \"/content/drive/MyDrive/photos\"\n",
        "car_brands = ['Ford', 'Honday', 'Hyundai', 'Nissan', 'Renault', 'Suzuki', 'Tata', 'Toyota', 'Volkswagen']\n",
        "num_classes = len(car_brands)"
      ]
    },
    {
      "cell_type": "code",
      "execution_count": null,
      "id": "c1e7e517",
      "metadata": {
        "id": "c1e7e517"
      },
      "outputs": [],
      "source": [
        "import tensorflow as tf\n",
        "from tensorflow.keras.preprocessing.image import ImageDataGenerator\n",
        "from tensorflow.keras.applications import MobileNetV2\n",
        "from tensorflow.keras.models import Sequential\n",
        "from tensorflow.keras.layers import Conv2D, MaxPooling2D, Flatten, Dense\n",
        "from sklearn.metrics import confusion_matrix\n",
        "import seaborn as sns\n",
        "import matplotlib.pyplot as plt"
      ]
    },
    {
      "cell_type": "code",
      "execution_count": null,
      "id": "62d186a9",
      "metadata": {
        "id": "62d186a9"
      },
      "outputs": [],
      "source": [
        "# Constants\n",
        "img_width, img_height = 224, 224\n",
        "batch_size = 16\n",
        "epochs = 60\n",
        "num_classes = 9  # Replace with the actual number of car brands"
      ]
    },
    {
      "cell_type": "code",
      "execution_count": null,
      "id": "4496fdb5",
      "metadata": {
        "id": "4496fdb5"
      },
      "outputs": [],
      "source": [
        "# Data preprocessing and augmentation\n",
        "train_datagen = ImageDataGenerator(\n",
        "    rescale=1./255,\n",
        "    shear_range=0.2,\n",
        "    zoom_range=0.2,\n",
        "    horizontal_flip=True,\n",
        "    validation_split=0.3)"
      ]
    },
    {
      "cell_type": "code",
      "execution_count": null,
      "id": "05adf946",
      "metadata": {
        "colab": {
          "base_uri": "https://localhost:8080/"
        },
        "id": "05adf946",
        "outputId": "7bac3b9a-02fc-4a22-f5a9-6d470cdf2818"
      },
      "outputs": [
        {
          "output_type": "stream",
          "name": "stdout",
          "text": [
            "Found 2054 images belonging to 9 classes.\n"
          ]
        }
      ],
      "source": [
        "train_generator = train_datagen.flow_from_directory(\n",
        "    dataset,\n",
        "    target_size=(img_width, img_height),\n",
        "    batch_size=batch_size,\n",
        "    class_mode='categorical',\n",
        "    subset='training')"
      ]
    },
    {
      "cell_type": "code",
      "execution_count": null,
      "id": "546b0d77",
      "metadata": {
        "colab": {
          "base_uri": "https://localhost:8080/"
        },
        "id": "546b0d77",
        "outputId": "b3157f10-c0f2-4542-ddb4-6db1cf1701ee"
      },
      "outputs": [
        {
          "output_type": "stream",
          "name": "stdout",
          "text": [
            "Found 874 images belonging to 9 classes.\n"
          ]
        }
      ],
      "source": [
        "validation_generator = train_datagen.flow_from_directory(\n",
        "    dataset,\n",
        "    target_size=(img_width, img_height),\n",
        "    batch_size=batch_size,\n",
        "    class_mode='categorical',\n",
        "    subset='validation')"
      ]
    },
    {
      "cell_type": "code",
      "execution_count": null,
      "id": "1ee7ac1b",
      "metadata": {
        "id": "1ee7ac1b"
      },
      "outputs": [],
      "source": [
        "# Number of classes\n",
        "num_classes = len(train_generator.class_indices)"
      ]
    },
    {
      "cell_type": "code",
      "execution_count": null,
      "id": "597d2d0e",
      "metadata": {
        "id": "597d2d0e"
      },
      "outputs": [],
      "source": [
        "# Model 1: Simple CNN\n",
        "\n",
        "This model is a basic Convolutional Neural Network (CNN) architecture. It consists of convolutional layers followed by max-pooling layers to extract features from input images. Then, it flattens the features and passes them through fully connected layers to make predictions. It's a straightforward architecture suitable for simple image classification tasks.\n",
        "\n",
        "\n",
        "## Considerations:\n",
        "This model is relatively lightweight and has low computational cost. It can be a good choice if we have limited computational resources."
      ]
    },
    {
      "cell_type": "code",
      "execution_count": null,
      "id": "cef1ac1b",
      "metadata": {
        "id": "cef1ac1b"
      },
      "outputs": [],
      "source": [
        "# Model 1: Simple CNN\n",
        "model1 = Sequential([\n",
        "    Conv2D(32, (3, 3), activation='relu', input_shape=(img_width, img_height, 3)),\n",
        "    MaxPooling2D((2, 2)),\n",
        "    Conv2D(64, (3, 3), activation='relu'),  # New Convolutional layer with 64 filters and 3x3 kernel\n",
        "    MaxPooling2D((2, 2)),  # New MaxPooling layer\n",
        "    Flatten(),\n",
        "    Dense(128, activation='relu'),\n",
        "    Dense(num_classes, activation='softmax')\n",
        "])"
      ]
    },
    {
      "cell_type": "code",
      "execution_count": null,
      "id": "f47e8b4e",
      "metadata": {
        "id": "f47e8b4e"
      },
      "outputs": [],
      "source": [
        "# Compiling the simple CNN models\n",
        "model1.compile(loss='categorical_crossentropy',\n",
        "               optimizer='adam',\n",
        "               metrics=['accuracy'])"
      ]
    },
    {
      "cell_type": "code",
      "execution_count": null,
      "id": "deb6f8d2",
      "metadata": {
        "id": "deb6f8d2",
        "outputId": "d94f5673-8bfa-4f72-ae80-98166052c113"
      },
      "outputs": [
        {
          "name": "stdout",
          "output_type": "stream",
          "text": [
            "Epoch 1/60\n",
            "  7/129 [>.............................] - ETA: 1:29 - loss: 13.7939 - accuracy: 0.1786"
          ]
        },
        {
          "name": "stderr",
          "output_type": "stream",
          "text": [
            "C:\\Python311\\Lib\\site-packages\\PIL\\Image.py:992: UserWarning: Palette images with Transparency expressed in bytes should be converted to RGBA images\n",
            "  warnings.warn(\n"
          ]
        },
        {
          "name": "stdout",
          "output_type": "stream",
          "text": [
            "129/129 [==============================] - 110s 847ms/step - loss: 2.8219 - accuracy: 0.1433 - val_loss: 2.0714 - val_accuracy: 0.1701\n",
            "Epoch 2/60\n",
            "129/129 [==============================] - 85s 657ms/step - loss: 2.0775 - accuracy: 0.2274 - val_loss: 2.0457 - val_accuracy: 0.2146\n",
            "Epoch 3/60\n",
            "129/129 [==============================] - 92s 713ms/step - loss: 1.9443 - accuracy: 0.2915 - val_loss: 2.1013 - val_accuracy: 0.2363\n",
            "Epoch 4/60\n",
            "129/129 [==============================] - 91s 704ms/step - loss: 1.7817 - accuracy: 0.3673 - val_loss: 2.0164 - val_accuracy: 0.2808\n",
            "Epoch 5/60\n",
            "129/129 [==============================] - 89s 689ms/step - loss: 1.6156 - accuracy: 0.4451 - val_loss: 2.3291 - val_accuracy: 0.2888\n",
            "Epoch 6/60\n",
            "129/129 [==============================] - 85s 659ms/step - loss: 1.4845 - accuracy: 0.5019 - val_loss: 2.0496 - val_accuracy: 0.3059\n",
            "Epoch 7/60\n",
            "129/129 [==============================] - 92s 717ms/step - loss: 1.3395 - accuracy: 0.5481 - val_loss: 2.0973 - val_accuracy: 0.3231\n",
            "Epoch 8/60\n",
            "129/129 [==============================] - 85s 660ms/step - loss: 1.1889 - accuracy: 0.6069 - val_loss: 2.1639 - val_accuracy: 0.3276\n",
            "Epoch 9/60\n",
            "129/129 [==============================] - 85s 662ms/step - loss: 1.1286 - accuracy: 0.6302 - val_loss: 2.2754 - val_accuracy: 0.3322\n",
            "Epoch 10/60\n",
            "129/129 [==============================] - 84s 653ms/step - loss: 1.0011 - accuracy: 0.6618 - val_loss: 2.1699 - val_accuracy: 0.3584\n",
            "Epoch 11/60\n",
            "129/129 [==============================] - 84s 654ms/step - loss: 0.8757 - accuracy: 0.7094 - val_loss: 2.3452 - val_accuracy: 0.3881\n",
            "Epoch 12/60\n",
            "129/129 [==============================] - 85s 658ms/step - loss: 0.7865 - accuracy: 0.7493 - val_loss: 2.4258 - val_accuracy: 0.3847\n",
            "Epoch 13/60\n",
            "129/129 [==============================] - 86s 667ms/step - loss: 0.7566 - accuracy: 0.7517 - val_loss: 2.4821 - val_accuracy: 0.3836\n",
            "Epoch 14/60\n",
            "129/129 [==============================] - 85s 660ms/step - loss: 0.6753 - accuracy: 0.7935 - val_loss: 2.6271 - val_accuracy: 0.3779\n",
            "Epoch 15/60\n",
            "129/129 [==============================] - 86s 665ms/step - loss: 0.5695 - accuracy: 0.8231 - val_loss: 2.6290 - val_accuracy: 0.4018\n",
            "Epoch 16/60\n",
            "129/129 [==============================] - 86s 663ms/step - loss: 0.5240 - accuracy: 0.8367 - val_loss: 2.5227 - val_accuracy: 0.4441\n",
            "Epoch 17/60\n",
            "129/129 [==============================] - 85s 658ms/step - loss: 0.4639 - accuracy: 0.8586 - val_loss: 2.5317 - val_accuracy: 0.4144\n",
            "Epoch 18/60\n",
            "129/129 [==============================] - 88s 685ms/step - loss: 0.4350 - accuracy: 0.8615 - val_loss: 2.5880 - val_accuracy: 0.4521\n",
            "Epoch 19/60\n",
            "129/129 [==============================] - 88s 678ms/step - loss: 0.4231 - accuracy: 0.8741 - val_loss: 2.3544 - val_accuracy: 0.4543\n",
            "Epoch 20/60\n",
            "129/129 [==============================] - 87s 675ms/step - loss: 0.3339 - accuracy: 0.8965 - val_loss: 2.6604 - val_accuracy: 0.4224\n",
            "Epoch 21/60\n",
            "129/129 [==============================] - 87s 674ms/step - loss: 0.3479 - accuracy: 0.8897 - val_loss: 2.5982 - val_accuracy: 0.4589\n",
            "Epoch 22/60\n",
            "129/129 [==============================] - 85s 659ms/step - loss: 0.2911 - accuracy: 0.9121 - val_loss: 2.9518 - val_accuracy: 0.4498\n",
            "Epoch 23/60\n",
            "129/129 [==============================] - 86s 667ms/step - loss: 0.2912 - accuracy: 0.9145 - val_loss: 2.8929 - val_accuracy: 0.4498\n",
            "Epoch 24/60\n",
            "129/129 [==============================] - 90s 699ms/step - loss: 0.2642 - accuracy: 0.9232 - val_loss: 2.9216 - val_accuracy: 0.4669\n",
            "Epoch 25/60\n",
            "129/129 [==============================] - 91s 705ms/step - loss: 0.2684 - accuracy: 0.9227 - val_loss: 2.9870 - val_accuracy: 0.4509\n",
            "Epoch 26/60\n",
            "129/129 [==============================] - 93s 719ms/step - loss: 0.2246 - accuracy: 0.9339 - val_loss: 3.3554 - val_accuracy: 0.4509\n",
            "Epoch 27/60\n",
            "129/129 [==============================] - 92s 710ms/step - loss: 0.2149 - accuracy: 0.9339 - val_loss: 3.1826 - val_accuracy: 0.4658\n",
            "Epoch 28/60\n",
            "129/129 [==============================] - 92s 714ms/step - loss: 0.2152 - accuracy: 0.9310 - val_loss: 2.9329 - val_accuracy: 0.4612\n",
            "Epoch 29/60\n",
            "129/129 [==============================] - 93s 722ms/step - loss: 0.1653 - accuracy: 0.9470 - val_loss: 3.3326 - val_accuracy: 0.4475\n",
            "Epoch 30/60\n",
            "129/129 [==============================] - 87s 671ms/step - loss: 0.2026 - accuracy: 0.9373 - val_loss: 3.1809 - val_accuracy: 0.4852\n",
            "Epoch 31/60\n",
            "129/129 [==============================] - 92s 709ms/step - loss: 0.1695 - accuracy: 0.9461 - val_loss: 3.4643 - val_accuracy: 0.4658\n",
            "Epoch 32/60\n",
            "129/129 [==============================] - 95s 737ms/step - loss: 0.1929 - accuracy: 0.9402 - val_loss: 3.0949 - val_accuracy: 0.4829\n",
            "Epoch 33/60\n",
            "129/129 [==============================] - 103s 795ms/step - loss: 0.1619 - accuracy: 0.9500 - val_loss: 3.4374 - val_accuracy: 0.4863\n",
            "Epoch 34/60\n",
            "129/129 [==============================] - 97s 750ms/step - loss: 0.1523 - accuracy: 0.9626 - val_loss: 3.2767 - val_accuracy: 0.4498\n",
            "Epoch 35/60\n",
            "129/129 [==============================] - 90s 700ms/step - loss: 0.1511 - accuracy: 0.9592 - val_loss: 3.4844 - val_accuracy: 0.4589\n",
            "Epoch 36/60\n",
            "129/129 [==============================] - 90s 700ms/step - loss: 0.1685 - accuracy: 0.9500 - val_loss: 3.2183 - val_accuracy: 0.4726\n",
            "Epoch 37/60\n",
            "129/129 [==============================] - 94s 730ms/step - loss: 0.1385 - accuracy: 0.9597 - val_loss: 2.9840 - val_accuracy: 0.4795\n",
            "Epoch 38/60\n",
            "129/129 [==============================] - 91s 705ms/step - loss: 0.1364 - accuracy: 0.9592 - val_loss: 3.3234 - val_accuracy: 0.4977\n",
            "Epoch 39/60\n",
            "129/129 [==============================] - 98s 760ms/step - loss: 0.1198 - accuracy: 0.9621 - val_loss: 3.7264 - val_accuracy: 0.4475\n",
            "Epoch 40/60\n",
            "129/129 [==============================] - 92s 714ms/step - loss: 0.1285 - accuracy: 0.9694 - val_loss: 3.4048 - val_accuracy: 0.4874\n",
            "Epoch 41/60\n",
            "129/129 [==============================] - 94s 732ms/step - loss: 0.1116 - accuracy: 0.9660 - val_loss: 3.1652 - val_accuracy: 0.4680\n",
            "Epoch 42/60\n",
            "129/129 [==============================] - 95s 737ms/step - loss: 0.1203 - accuracy: 0.9640 - val_loss: 3.6514 - val_accuracy: 0.4897\n",
            "Epoch 43/60\n",
            "129/129 [==============================] - 92s 710ms/step - loss: 0.1249 - accuracy: 0.9606 - val_loss: 3.6017 - val_accuracy: 0.4863\n",
            "Epoch 44/60\n",
            "129/129 [==============================] - 91s 708ms/step - loss: 0.1044 - accuracy: 0.9640 - val_loss: 3.6884 - val_accuracy: 0.4578\n",
            "Epoch 45/60\n",
            "129/129 [==============================] - 94s 725ms/step - loss: 0.1307 - accuracy: 0.9621 - val_loss: 3.7694 - val_accuracy: 0.4852\n",
            "Epoch 46/60\n",
            "129/129 [==============================] - 97s 752ms/step - loss: 0.1052 - accuracy: 0.9694 - val_loss: 3.5921 - val_accuracy: 0.4829\n",
            "Epoch 47/60\n",
            "129/129 [==============================] - 97s 748ms/step - loss: 0.0993 - accuracy: 0.9713 - val_loss: 3.6365 - val_accuracy: 0.5068\n",
            "Epoch 48/60\n",
            "129/129 [==============================] - 96s 742ms/step - loss: 0.1172 - accuracy: 0.9670 - val_loss: 4.1112 - val_accuracy: 0.4566\n",
            "Epoch 49/60\n",
            "129/129 [==============================] - 92s 709ms/step - loss: 0.1132 - accuracy: 0.9689 - val_loss: 3.8686 - val_accuracy: 0.4989\n",
            "Epoch 50/60\n",
            "129/129 [==============================] - 90s 696ms/step - loss: 0.1230 - accuracy: 0.9626 - val_loss: 3.4941 - val_accuracy: 0.4795\n",
            "Epoch 51/60\n",
            "129/129 [==============================] - 91s 708ms/step - loss: 0.0628 - accuracy: 0.9825 - val_loss: 3.9719 - val_accuracy: 0.4749\n",
            "Epoch 52/60\n",
            "129/129 [==============================] - 91s 703ms/step - loss: 0.0983 - accuracy: 0.9704 - val_loss: 3.8853 - val_accuracy: 0.5046\n",
            "Epoch 53/60\n",
            "129/129 [==============================] - 93s 717ms/step - loss: 0.1022 - accuracy: 0.9723 - val_loss: 3.6318 - val_accuracy: 0.4806\n",
            "Epoch 54/60\n",
            "129/129 [==============================] - 91s 702ms/step - loss: 0.1070 - accuracy: 0.9684 - val_loss: 3.7396 - val_accuracy: 0.4760\n",
            "Epoch 55/60\n",
            "129/129 [==============================] - 93s 718ms/step - loss: 0.0704 - accuracy: 0.9762 - val_loss: 4.1107 - val_accuracy: 0.4840\n",
            "Epoch 56/60\n",
            "129/129 [==============================] - 89s 692ms/step - loss: 0.0735 - accuracy: 0.9801 - val_loss: 3.6274 - val_accuracy: 0.4920\n",
            "Epoch 57/60\n"
          ]
        },
        {
          "name": "stdout",
          "output_type": "stream",
          "text": [
            "129/129 [==============================] - 94s 731ms/step - loss: 0.0944 - accuracy: 0.9728 - val_loss: 4.5666 - val_accuracy: 0.4943\n",
            "Epoch 58/60\n",
            "129/129 [==============================] - 97s 756ms/step - loss: 0.1231 - accuracy: 0.9699 - val_loss: 3.8740 - val_accuracy: 0.5023\n",
            "Epoch 59/60\n",
            "129/129 [==============================] - 98s 761ms/step - loss: 0.1018 - accuracy: 0.9752 - val_loss: 3.9482 - val_accuracy: 0.5080\n",
            "Epoch 60/60\n",
            "129/129 [==============================] - 99s 767ms/step - loss: 0.1085 - accuracy: 0.9670 - val_loss: 3.9503 - val_accuracy: 0.4749\n"
          ]
        }
      ],
      "source": [
        "# Training the CNN model\n",
        "history1 = model1.fit(train_generator, validation_data=validation_generator, epochs=epochs)"
      ]
    },
    {
      "cell_type": "code",
      "execution_count": null,
      "id": "a12712b5",
      "metadata": {
        "id": "a12712b5",
        "outputId": "b9811265-e61b-410d-93cd-65bd0ed89888"
      },
      "outputs": [
        {
          "name": "stdout",
          "output_type": "stream",
          "text": [
            "55/55 [==============================] - 11s 203ms/step - loss: 3.9355 - accuracy: 0.4806\n"
          ]
        }
      ],
      "source": [
        "# Evaluating the Model\n",
        "loss1, accuracy1 = model1.evaluate(validation_generator)"
      ]
    },
    {
      "cell_type": "code",
      "execution_count": null,
      "id": "4a281ccf",
      "metadata": {
        "scrolled": true,
        "id": "4a281ccf",
        "outputId": "befdf9ef-4522-4056-a9a7-9b33302fb051"
      },
      "outputs": [
        {
          "name": "stdout",
          "output_type": "stream",
          "text": [
            "Model 1: Validation loss=3.9355, accuracy=0.4806\n"
          ]
        }
      ],
      "source": [
        "print(f\"Model 1: Validation loss={loss1:.4f}, accuracy={accuracy1:.4f}\")"
      ]
    },
    {
      "cell_type": "markdown",
      "id": "a626c52e",
      "metadata": {
        "id": "a626c52e"
      },
      "source": [
        "## Model 2: Pre-trained CNN with fine-tuning\n",
        "This model uses a pre-trained MobileNetV2 architecture as a feature extractor. It then adds custom fully connected layers on top of it for classification. Fine-tuning allows the model to adapt to your specific dataset while leveraging the pre-trained weights, making it effective for transfer learning.\n",
        "\n",
        "### Considerations:\n",
        "This model may has the higher computational cost due to the pre-trained base model, but it often achieves better accuracy by leveraging knowledge from a broader dataset.\n"
      ]
    },
    {
      "cell_type": "code",
      "execution_count": null,
      "id": "8275976f",
      "metadata": {
        "id": "8275976f"
      },
      "outputs": [],
      "source": [
        "base_model = MobileNetV2(input_shape=(img_width, img_height, 3), include_top=False)\n",
        "for layer in base_model.layers:\n",
        "    layer.trainable = False\n",
        "model2 = Sequential([\n",
        "    base_model,\n",
        "    Flatten(),\n",
        "    Dense(128, activation='relu'),\n",
        "    Dense(num_classes, activation='softmax')\n",
        "])"
      ]
    },
    {
      "cell_type": "code",
      "execution_count": null,
      "id": "8cd749cd",
      "metadata": {
        "id": "8cd749cd"
      },
      "outputs": [],
      "source": [
        "# Compiling the Model\n",
        "model2.compile(loss='categorical_crossentropy',\n",
        "               optimizer='adam',\n",
        "               metrics=['accuracy'])"
      ]
    },
    {
      "cell_type": "code",
      "execution_count": null,
      "id": "3c3909a9",
      "metadata": {
        "scrolled": false,
        "id": "3c3909a9",
        "outputId": "935a72ed-de08-4f91-93cf-38a7fd84511e"
      },
      "outputs": [
        {
          "name": "stdout",
          "output_type": "stream",
          "text": [
            "Epoch 1/128\n",
            "129/129 [==============================] - 76s 559ms/step - loss: 3.9336 - accuracy: 0.2075 - val_loss: 1.9692 - val_accuracy: 0.2648\n",
            "Epoch 2/128\n",
            "129/129 [==============================] - 71s 548ms/step - loss: 2.0016 - accuracy: 0.2410 - val_loss: 1.8742 - val_accuracy: 0.3174\n",
            "Epoch 3/128\n",
            "129/129 [==============================] - 71s 548ms/step - loss: 1.8801 - accuracy: 0.2988 - val_loss: 1.8567 - val_accuracy: 0.3219\n",
            "Epoch 4/128\n",
            "129/129 [==============================] - 68s 524ms/step - loss: 1.8310 - accuracy: 0.3066 - val_loss: 1.9746 - val_accuracy: 0.2705\n",
            "Epoch 5/128\n",
            "129/129 [==============================] - 72s 558ms/step - loss: 1.7701 - accuracy: 0.3256 - val_loss: 1.8900 - val_accuracy: 0.2900\n",
            "Epoch 6/128\n",
            "129/129 [==============================] - 82s 635ms/step - loss: 1.6923 - accuracy: 0.3445 - val_loss: 1.8511 - val_accuracy: 0.3425\n",
            "Epoch 7/128\n",
            "129/129 [==============================] - 80s 617ms/step - loss: 1.6388 - accuracy: 0.3635 - val_loss: 1.8991 - val_accuracy: 0.3151\n",
            "Epoch 8/128\n",
            "129/129 [==============================] - 72s 558ms/step - loss: 1.5667 - accuracy: 0.3960 - val_loss: 1.8428 - val_accuracy: 0.3584\n",
            "Epoch 9/128\n",
            "129/129 [==============================] - 76s 586ms/step - loss: 1.4976 - accuracy: 0.4150 - val_loss: 1.7903 - val_accuracy: 0.3881\n",
            "Epoch 10/128\n",
            "129/129 [==============================] - 76s 590ms/step - loss: 1.4122 - accuracy: 0.4509 - val_loss: 1.7688 - val_accuracy: 0.4144\n",
            "Epoch 11/128\n",
            "129/129 [==============================] - 74s 574ms/step - loss: 1.3330 - accuracy: 0.4801 - val_loss: 1.6166 - val_accuracy: 0.4315\n",
            "Epoch 12/128\n",
            "129/129 [==============================] - 75s 580ms/step - loss: 1.2441 - accuracy: 0.5306 - val_loss: 2.0096 - val_accuracy: 0.4555\n",
            "Epoch 13/128\n",
            "129/129 [==============================] - 73s 569ms/step - loss: 1.1788 - accuracy: 0.5675 - val_loss: 1.8007 - val_accuracy: 0.4521\n",
            "Epoch 14/128\n",
            "129/129 [==============================] - 73s 564ms/step - loss: 1.1147 - accuracy: 0.5797 - val_loss: 1.6823 - val_accuracy: 0.5148\n",
            "Epoch 15/128\n",
            "129/129 [==============================] - 64s 493ms/step - loss: 1.0582 - accuracy: 0.6113 - val_loss: 1.9040 - val_accuracy: 0.4806\n",
            "Epoch 16/128\n",
            "129/129 [==============================] - 65s 500ms/step - loss: 0.9619 - accuracy: 0.6419 - val_loss: 1.7445 - val_accuracy: 0.5057\n",
            "Epoch 17/128\n",
            "129/129 [==============================] - 67s 520ms/step - loss: 0.9001 - accuracy: 0.6672 - val_loss: 1.7615 - val_accuracy: 0.5160\n",
            "Epoch 18/128\n",
            "129/129 [==============================] - 71s 553ms/step - loss: 0.8724 - accuracy: 0.6701 - val_loss: 1.7440 - val_accuracy: 0.5114\n",
            "Epoch 19/128\n",
            "129/129 [==============================] - 71s 551ms/step - loss: 0.7691 - accuracy: 0.7119 - val_loss: 1.6367 - val_accuracy: 0.5479\n",
            "Epoch 20/128\n",
            "129/129 [==============================] - 71s 548ms/step - loss: 0.7035 - accuracy: 0.7289 - val_loss: 1.5551 - val_accuracy: 0.5434\n",
            "Epoch 21/128\n",
            "129/129 [==============================] - 74s 573ms/step - loss: 0.6670 - accuracy: 0.7459 - val_loss: 1.7718 - val_accuracy: 0.5765\n",
            "Epoch 22/128\n",
            "129/129 [==============================] - 89s 688ms/step - loss: 0.6063 - accuracy: 0.7838 - val_loss: 1.7095 - val_accuracy: 0.5594\n",
            "Epoch 23/128\n",
            "129/129 [==============================] - 81s 628ms/step - loss: 0.5267 - accuracy: 0.8027 - val_loss: 1.9421 - val_accuracy: 0.5993\n",
            "Epoch 24/128\n",
            "129/129 [==============================] - 74s 573ms/step - loss: 0.5285 - accuracy: 0.7998 - val_loss: 1.7858 - val_accuracy: 0.5696\n",
            "Epoch 25/128\n",
            "129/129 [==============================] - 73s 569ms/step - loss: 0.4768 - accuracy: 0.8192 - val_loss: 1.8846 - val_accuracy: 0.5856\n",
            "Epoch 26/128\n",
            "129/129 [==============================] - 70s 543ms/step - loss: 0.5131 - accuracy: 0.8139 - val_loss: 2.3647 - val_accuracy: 0.5468\n",
            "Epoch 27/128\n",
            "129/129 [==============================] - 69s 531ms/step - loss: 0.4526 - accuracy: 0.8324 - val_loss: 1.8294 - val_accuracy: 0.5936\n",
            "Epoch 28/128\n",
            "129/129 [==============================] - 66s 510ms/step - loss: 0.4167 - accuracy: 0.8528 - val_loss: 2.0768 - val_accuracy: 0.5685\n",
            "Epoch 29/128\n",
            "129/129 [==============================] - 64s 493ms/step - loss: 0.3745 - accuracy: 0.8649 - val_loss: 2.1708 - val_accuracy: 0.6153\n",
            "Epoch 30/128\n",
            "129/129 [==============================] - 63s 491ms/step - loss: 0.3331 - accuracy: 0.8795 - val_loss: 2.1567 - val_accuracy: 0.5582\n",
            "Epoch 31/128\n",
            "129/129 [==============================] - 63s 486ms/step - loss: 0.3445 - accuracy: 0.8795 - val_loss: 2.1729 - val_accuracy: 0.5913\n",
            "Epoch 32/128\n",
            "129/129 [==============================] - 61s 473ms/step - loss: 0.2959 - accuracy: 0.8999 - val_loss: 1.9327 - val_accuracy: 0.6153\n",
            "Epoch 33/128\n",
            "129/129 [==============================] - 61s 474ms/step - loss: 0.3013 - accuracy: 0.8994 - val_loss: 1.9925 - val_accuracy: 0.6233\n",
            "Epoch 34/128\n",
            "129/129 [==============================] - 61s 473ms/step - loss: 0.2681 - accuracy: 0.9048 - val_loss: 1.8483 - val_accuracy: 0.6119\n",
            "Epoch 35/128\n",
            "129/129 [==============================] - 61s 474ms/step - loss: 0.2418 - accuracy: 0.9121 - val_loss: 2.9658 - val_accuracy: 0.5856\n",
            "Epoch 36/128\n",
            "129/129 [==============================] - 62s 478ms/step - loss: 0.2608 - accuracy: 0.9091 - val_loss: 1.9501 - val_accuracy: 0.6153\n",
            "Epoch 37/128\n",
            "129/129 [==============================] - 63s 487ms/step - loss: 0.2368 - accuracy: 0.9189 - val_loss: 2.6091 - val_accuracy: 0.5742\n",
            "Epoch 38/128\n",
            "129/129 [==============================] - 60s 463ms/step - loss: 0.2159 - accuracy: 0.9276 - val_loss: 2.1320 - val_accuracy: 0.6530\n",
            "Epoch 39/128\n",
            "129/129 [==============================] - 60s 466ms/step - loss: 0.1869 - accuracy: 0.9363 - val_loss: 2.3097 - val_accuracy: 0.6221\n",
            "Epoch 40/128\n",
            "129/129 [==============================] - 60s 466ms/step - loss: 0.2240 - accuracy: 0.9329 - val_loss: 2.3856 - val_accuracy: 0.6279\n",
            "Epoch 41/128\n",
            "129/129 [==============================] - 63s 487ms/step - loss: 0.1870 - accuracy: 0.9373 - val_loss: 2.4094 - val_accuracy: 0.6393\n",
            "Epoch 42/128\n",
            "129/129 [==============================] - 68s 525ms/step - loss: 0.1951 - accuracy: 0.9397 - val_loss: 2.3271 - val_accuracy: 0.6256\n",
            "Epoch 43/128\n",
            "129/129 [==============================] - 65s 500ms/step - loss: 0.1919 - accuracy: 0.9363 - val_loss: 2.3103 - val_accuracy: 0.6427\n",
            "Epoch 44/128\n",
            "129/129 [==============================] - 65s 505ms/step - loss: 0.1670 - accuracy: 0.9412 - val_loss: 2.2571 - val_accuracy: 0.6598\n",
            "Epoch 45/128\n",
            "129/129 [==============================] - 65s 502ms/step - loss: 0.2075 - accuracy: 0.9281 - val_loss: 2.5530 - val_accuracy: 0.6518\n",
            "Epoch 46/128\n",
            "129/129 [==============================] - 64s 500ms/step - loss: 0.1464 - accuracy: 0.9553 - val_loss: 2.6484 - val_accuracy: 0.6279\n",
            "Epoch 47/128\n",
            "129/129 [==============================] - 65s 503ms/step - loss: 0.1989 - accuracy: 0.9402 - val_loss: 2.2498 - val_accuracy: 0.6427\n",
            "Epoch 48/128\n",
            "129/129 [==============================] - 62s 482ms/step - loss: 0.1324 - accuracy: 0.9587 - val_loss: 2.2186 - val_accuracy: 0.6587\n",
            "Epoch 49/128\n",
            "129/129 [==============================] - 68s 526ms/step - loss: 0.1541 - accuracy: 0.9548 - val_loss: 2.4020 - val_accuracy: 0.6404\n",
            "Epoch 50/128\n",
            "129/129 [==============================] - 72s 560ms/step - loss: 0.1652 - accuracy: 0.9504 - val_loss: 2.3966 - val_accuracy: 0.6587\n",
            "Epoch 51/128\n",
            "129/129 [==============================] - 68s 527ms/step - loss: 0.1178 - accuracy: 0.9611 - val_loss: 2.4228 - val_accuracy: 0.6461\n",
            "Epoch 52/128\n",
            "129/129 [==============================] - 71s 549ms/step - loss: 0.1060 - accuracy: 0.9636 - val_loss: 2.5346 - val_accuracy: 0.6404\n",
            "Epoch 53/128\n",
            "129/129 [==============================] - 71s 548ms/step - loss: 0.1397 - accuracy: 0.9538 - val_loss: 2.4937 - val_accuracy: 0.6404\n",
            "Epoch 54/128\n",
            "129/129 [==============================] - 65s 507ms/step - loss: 0.1263 - accuracy: 0.9572 - val_loss: 2.4769 - val_accuracy: 0.6427\n",
            "Epoch 55/128\n",
            "129/129 [==============================] - 62s 483ms/step - loss: 0.1656 - accuracy: 0.9514 - val_loss: 2.7480 - val_accuracy: 0.6381\n",
            "Epoch 56/128\n",
            "129/129 [==============================] - 63s 486ms/step - loss: 0.1582 - accuracy: 0.9470 - val_loss: 2.4728 - val_accuracy: 0.6689\n"
          ]
        },
        {
          "name": "stdout",
          "output_type": "stream",
          "text": [
            "Epoch 57/128\n",
            "129/129 [==============================] - 68s 524ms/step - loss: 0.1292 - accuracy: 0.9543 - val_loss: 2.6418 - val_accuracy: 0.6199\n",
            "Epoch 58/128\n",
            "129/129 [==============================] - 67s 521ms/step - loss: 0.1078 - accuracy: 0.9660 - val_loss: 2.9006 - val_accuracy: 0.5856\n",
            "Epoch 59/128\n",
            "129/129 [==============================] - 66s 514ms/step - loss: 0.1197 - accuracy: 0.9655 - val_loss: 2.4109 - val_accuracy: 0.6518\n",
            "Epoch 60/128\n",
            "129/129 [==============================] - 63s 491ms/step - loss: 0.1292 - accuracy: 0.9587 - val_loss: 3.0462 - val_accuracy: 0.6199\n",
            "Epoch 61/128\n",
            "129/129 [==============================] - 62s 481ms/step - loss: 0.2172 - accuracy: 0.9393 - val_loss: 2.8336 - val_accuracy: 0.6062\n",
            "Epoch 62/128\n",
            "129/129 [==============================] - 65s 502ms/step - loss: 0.1263 - accuracy: 0.9621 - val_loss: 2.9278 - val_accuracy: 0.6267\n",
            "Epoch 63/128\n",
            "129/129 [==============================] - 81s 627ms/step - loss: 0.1672 - accuracy: 0.9490 - val_loss: 2.3078 - val_accuracy: 0.6678\n",
            "Epoch 64/128\n",
            "129/129 [==============================] - 78s 607ms/step - loss: 0.1484 - accuracy: 0.9514 - val_loss: 2.4099 - val_accuracy: 0.6575\n",
            "Epoch 65/128\n",
            "129/129 [==============================] - 83s 641ms/step - loss: 0.1197 - accuracy: 0.9611 - val_loss: 2.5610 - val_accuracy: 0.6530\n",
            "Epoch 66/128\n",
            "129/129 [==============================] - 84s 652ms/step - loss: 0.0823 - accuracy: 0.9699 - val_loss: 2.3041 - val_accuracy: 0.6667\n",
            "Epoch 67/128\n",
            "129/129 [==============================] - 92s 712ms/step - loss: 0.1076 - accuracy: 0.9694 - val_loss: 2.7818 - val_accuracy: 0.6553\n",
            "Epoch 68/128\n",
            "129/129 [==============================] - 72s 562ms/step - loss: 0.1050 - accuracy: 0.9699 - val_loss: 2.3272 - val_accuracy: 0.6621\n",
            "Epoch 69/128\n",
            "129/129 [==============================] - 65s 507ms/step - loss: 0.0935 - accuracy: 0.9742 - val_loss: 2.7492 - val_accuracy: 0.6404\n",
            "Epoch 70/128\n",
            "129/129 [==============================] - 64s 499ms/step - loss: 0.1047 - accuracy: 0.9665 - val_loss: 2.6474 - val_accuracy: 0.6507\n",
            "Epoch 71/128\n",
            "129/129 [==============================] - 64s 496ms/step - loss: 0.1083 - accuracy: 0.9708 - val_loss: 3.1551 - val_accuracy: 0.6324\n",
            "Epoch 72/128\n",
            "129/129 [==============================] - 64s 495ms/step - loss: 0.1610 - accuracy: 0.9568 - val_loss: 2.7584 - val_accuracy: 0.6370\n",
            "Epoch 73/128\n",
            "129/129 [==============================] - 65s 503ms/step - loss: 0.1114 - accuracy: 0.9708 - val_loss: 2.5419 - val_accuracy: 0.6553\n",
            "Epoch 74/128\n",
            "129/129 [==============================] - 64s 497ms/step - loss: 0.0950 - accuracy: 0.9708 - val_loss: 2.6673 - val_accuracy: 0.6621\n",
            "Epoch 75/128\n",
            "129/129 [==============================] - 66s 512ms/step - loss: 0.1497 - accuracy: 0.9558 - val_loss: 2.6438 - val_accuracy: 0.6621\n",
            "Epoch 76/128\n",
            "129/129 [==============================] - 63s 490ms/step - loss: 0.1173 - accuracy: 0.9660 - val_loss: 2.4746 - val_accuracy: 0.6518\n",
            "Epoch 77/128\n",
            "129/129 [==============================] - 64s 494ms/step - loss: 0.0774 - accuracy: 0.9776 - val_loss: 2.8073 - val_accuracy: 0.6735\n",
            "Epoch 78/128\n",
            "129/129 [==============================] - 64s 493ms/step - loss: 0.0940 - accuracy: 0.9728 - val_loss: 3.1305 - val_accuracy: 0.6427\n",
            "Epoch 79/128\n",
            "129/129 [==============================] - 64s 493ms/step - loss: 0.1005 - accuracy: 0.9728 - val_loss: 3.0233 - val_accuracy: 0.6495\n",
            "Epoch 80/128\n",
            "129/129 [==============================] - 64s 494ms/step - loss: 0.1137 - accuracy: 0.9616 - val_loss: 2.6266 - val_accuracy: 0.6438\n",
            "Epoch 81/128\n",
            "129/129 [==============================] - 65s 506ms/step - loss: 0.0842 - accuracy: 0.9752 - val_loss: 2.6814 - val_accuracy: 0.6553\n",
            "Epoch 82/128\n",
            "129/129 [==============================] - 85s 661ms/step - loss: 0.1025 - accuracy: 0.9723 - val_loss: 3.1762 - val_accuracy: 0.6370\n",
            "Epoch 83/128\n",
            "129/129 [==============================] - 67s 520ms/step - loss: 0.0815 - accuracy: 0.9762 - val_loss: 2.9979 - val_accuracy: 0.6621\n",
            "Epoch 84/128\n",
            "129/129 [==============================] - 64s 499ms/step - loss: 0.1015 - accuracy: 0.9738 - val_loss: 2.8197 - val_accuracy: 0.6667\n",
            "Epoch 85/128\n",
            "129/129 [==============================] - 64s 499ms/step - loss: 0.1040 - accuracy: 0.9674 - val_loss: 2.8426 - val_accuracy: 0.6678\n",
            "Epoch 86/128\n",
            "129/129 [==============================] - 63s 488ms/step - loss: 0.0925 - accuracy: 0.9713 - val_loss: 2.9383 - val_accuracy: 0.6678\n",
            "Epoch 87/128\n",
            "129/129 [==============================] - 66s 510ms/step - loss: 0.0794 - accuracy: 0.9767 - val_loss: 2.9451 - val_accuracy: 0.6735\n",
            "Epoch 88/128\n",
            "129/129 [==============================] - 64s 497ms/step - loss: 0.0785 - accuracy: 0.9791 - val_loss: 2.8599 - val_accuracy: 0.6667\n",
            "Epoch 89/128\n",
            "129/129 [==============================] - 66s 508ms/step - loss: 0.0494 - accuracy: 0.9854 - val_loss: 2.9590 - val_accuracy: 0.6541\n",
            "Epoch 90/128\n",
            "129/129 [==============================] - 61s 476ms/step - loss: 0.0952 - accuracy: 0.9752 - val_loss: 3.2391 - val_accuracy: 0.6632\n",
            "Epoch 91/128\n",
            "129/129 [==============================] - 62s 484ms/step - loss: 0.0748 - accuracy: 0.9791 - val_loss: 3.1216 - val_accuracy: 0.6575\n",
            "Epoch 92/128\n",
            "129/129 [==============================] - 62s 478ms/step - loss: 0.0986 - accuracy: 0.9713 - val_loss: 2.9987 - val_accuracy: 0.6553\n",
            "Epoch 93/128\n",
            "129/129 [==============================] - 65s 507ms/step - loss: 0.0766 - accuracy: 0.9767 - val_loss: 3.1955 - val_accuracy: 0.6769\n",
            "Epoch 94/128\n",
            "129/129 [==============================] - 66s 515ms/step - loss: 0.1057 - accuracy: 0.9718 - val_loss: 3.5300 - val_accuracy: 0.6062\n",
            "Epoch 95/128\n",
            "129/129 [==============================] - 73s 563ms/step - loss: 0.0952 - accuracy: 0.9747 - val_loss: 2.7097 - val_accuracy: 0.6701\n",
            "Epoch 96/128\n",
            "129/129 [==============================] - 75s 579ms/step - loss: 0.0845 - accuracy: 0.9776 - val_loss: 3.0069 - val_accuracy: 0.6541\n",
            "Epoch 97/128\n",
            "129/129 [==============================] - 76s 587ms/step - loss: 0.0735 - accuracy: 0.9815 - val_loss: 3.0244 - val_accuracy: 0.6484\n",
            "Epoch 98/128\n",
            "129/129 [==============================] - 79s 610ms/step - loss: 0.0848 - accuracy: 0.9776 - val_loss: 3.4394 - val_accuracy: 0.6290\n",
            "Epoch 99/128\n",
            "129/129 [==============================] - 77s 598ms/step - loss: 0.0720 - accuracy: 0.9791 - val_loss: 3.1123 - val_accuracy: 0.6667\n",
            "Epoch 100/128\n",
            "129/129 [==============================] - 80s 621ms/step - loss: 0.0627 - accuracy: 0.9825 - val_loss: 3.6445 - val_accuracy: 0.6301\n",
            "Epoch 101/128\n",
            "129/129 [==============================] - 82s 634ms/step - loss: 0.0574 - accuracy: 0.9796 - val_loss: 3.5060 - val_accuracy: 0.6313\n",
            "Epoch 102/128\n",
            "129/129 [==============================] - 71s 551ms/step - loss: 0.0884 - accuracy: 0.9762 - val_loss: 3.0178 - val_accuracy: 0.6735\n",
            "Epoch 103/128\n",
            "129/129 [==============================] - 70s 545ms/step - loss: 0.0881 - accuracy: 0.9713 - val_loss: 3.4592 - val_accuracy: 0.6484\n",
            "Epoch 104/128\n",
            "129/129 [==============================] - 69s 535ms/step - loss: 0.0803 - accuracy: 0.9791 - val_loss: 3.0188 - val_accuracy: 0.6769\n",
            "Epoch 105/128\n",
            "129/129 [==============================] - 68s 526ms/step - loss: 0.0581 - accuracy: 0.9825 - val_loss: 3.4201 - val_accuracy: 0.6598\n",
            "Epoch 106/128\n",
            "129/129 [==============================] - 74s 571ms/step - loss: 0.0756 - accuracy: 0.9825 - val_loss: 3.6552 - val_accuracy: 0.6575\n",
            "Epoch 107/128\n",
            "129/129 [==============================] - 69s 534ms/step - loss: 0.1301 - accuracy: 0.9660 - val_loss: 2.9439 - val_accuracy: 0.6632\n",
            "Epoch 108/128\n",
            "129/129 [==============================] - 72s 561ms/step - loss: 0.0683 - accuracy: 0.9801 - val_loss: 3.1352 - val_accuracy: 0.6632\n",
            "Epoch 109/128\n",
            "129/129 [==============================] - 64s 497ms/step - loss: 0.0942 - accuracy: 0.9718 - val_loss: 3.5587 - val_accuracy: 0.6324\n",
            "Epoch 110/128\n",
            "129/129 [==============================] - 62s 482ms/step - loss: 0.0748 - accuracy: 0.9781 - val_loss: 3.8058 - val_accuracy: 0.6324\n",
            "Epoch 111/128\n",
            "129/129 [==============================] - 60s 467ms/step - loss: 0.0769 - accuracy: 0.9796 - val_loss: 3.7368 - val_accuracy: 0.6381\n",
            "Epoch 112/128\n"
          ]
        },
        {
          "name": "stdout",
          "output_type": "stream",
          "text": [
            "129/129 [==============================] - 60s 466ms/step - loss: 0.0897 - accuracy: 0.9762 - val_loss: 3.0886 - val_accuracy: 0.6518\n",
            "Epoch 113/128\n",
            "129/129 [==============================] - 60s 466ms/step - loss: 0.0571 - accuracy: 0.9830 - val_loss: 3.0803 - val_accuracy: 0.6632\n",
            "Epoch 114/128\n",
            "129/129 [==============================] - 64s 496ms/step - loss: 0.0546 - accuracy: 0.9835 - val_loss: 3.3840 - val_accuracy: 0.6541\n",
            "Epoch 115/128\n",
            "129/129 [==============================] - 65s 505ms/step - loss: 0.0730 - accuracy: 0.9786 - val_loss: 3.0727 - val_accuracy: 0.6484\n",
            "Epoch 116/128\n",
            "129/129 [==============================] - 67s 520ms/step - loss: 0.0644 - accuracy: 0.9791 - val_loss: 3.4845 - val_accuracy: 0.6370\n",
            "Epoch 117/128\n",
            "129/129 [==============================] - 67s 517ms/step - loss: 0.0645 - accuracy: 0.9820 - val_loss: 2.9469 - val_accuracy: 0.6438\n",
            "Epoch 118/128\n",
            "129/129 [==============================] - 66s 508ms/step - loss: 0.0698 - accuracy: 0.9786 - val_loss: 3.1748 - val_accuracy: 0.6758\n",
            "Epoch 119/128\n",
            "129/129 [==============================] - 64s 497ms/step - loss: 0.0750 - accuracy: 0.9820 - val_loss: 3.5543 - val_accuracy: 0.6393\n",
            "Epoch 120/128\n",
            "129/129 [==============================] - 65s 502ms/step - loss: 0.0524 - accuracy: 0.9840 - val_loss: 3.0103 - val_accuracy: 0.6747\n",
            "Epoch 121/128\n",
            "129/129 [==============================] - 64s 495ms/step - loss: 0.0683 - accuracy: 0.9796 - val_loss: 3.7312 - val_accuracy: 0.6370\n",
            "Epoch 122/128\n",
            "129/129 [==============================] - 66s 508ms/step - loss: 0.0649 - accuracy: 0.9791 - val_loss: 3.0765 - val_accuracy: 0.6678\n",
            "Epoch 123/128\n",
            "129/129 [==============================] - 66s 509ms/step - loss: 0.0563 - accuracy: 0.9835 - val_loss: 3.0141 - val_accuracy: 0.6621\n",
            "Epoch 124/128\n",
            "129/129 [==============================] - 65s 508ms/step - loss: 0.0752 - accuracy: 0.9806 - val_loss: 4.3116 - val_accuracy: 0.6404\n",
            "Epoch 125/128\n",
            "129/129 [==============================] - 65s 505ms/step - loss: 0.0626 - accuracy: 0.9835 - val_loss: 3.0068 - val_accuracy: 0.6861\n",
            "Epoch 126/128\n",
            "129/129 [==============================] - 65s 504ms/step - loss: 0.0462 - accuracy: 0.9864 - val_loss: 3.3149 - val_accuracy: 0.6689\n",
            "Epoch 127/128\n",
            "129/129 [==============================] - 63s 487ms/step - loss: 0.0811 - accuracy: 0.9762 - val_loss: 3.4989 - val_accuracy: 0.6530\n",
            "Epoch 128/128\n",
            "129/129 [==============================] - 63s 489ms/step - loss: 0.0816 - accuracy: 0.9791 - val_loss: 3.0257 - val_accuracy: 0.6632\n"
          ]
        }
      ],
      "source": [
        "# Training the Model\n",
        "history2 = model2.fit(train_generator, validation_data=validation_generator, epochs=128)"
      ]
    },
    {
      "cell_type": "code",
      "execution_count": null,
      "id": "a350604c",
      "metadata": {
        "id": "a350604c",
        "outputId": "9bc29b5f-2bc1-42c5-9db5-f4b4940f8b48"
      },
      "outputs": [
        {
          "name": "stdout",
          "output_type": "stream",
          "text": [
            "55/55 [==============================] - 16s 289ms/step - loss: 3.0363 - accuracy: 0.6553\n"
          ]
        }
      ],
      "source": [
        "# Evaluating the Model\n",
        "loss2, accuracy2 = model2.evaluate(validation_generator)"
      ]
    },
    {
      "cell_type": "code",
      "execution_count": null,
      "id": "1b8fc623",
      "metadata": {
        "id": "1b8fc623",
        "outputId": "19f98782-1fa0-4933-ecba-44d162b67e7b"
      },
      "outputs": [
        {
          "name": "stdout",
          "output_type": "stream",
          "text": [
            "Model 2: Validation loss=3.0363, accuracy=0.6553\n"
          ]
        }
      ],
      "source": [
        "print(f\"Model 2: Validation loss={loss2:.4f}, accuracy={accuracy2:.4f}\")"
      ]
    },
    {
      "cell_type": "markdown",
      "id": "aa20a957",
      "metadata": {
        "id": "aa20a957"
      },
      "source": [
        "## Model 3: Transfer Learning using MobileNetV2\n",
        "This model is similar to Model 2 but uses MobileNetV2 as the entire backbone network. MobileNetV2 is a lightweight architecture suitable for mobile applications. The model fine-tunes the MobileNetV2 layers and adds custom layers for classification.\n",
        "\n",
        "### Considerations:\n",
        "This model is efficient in terms of model size and inference speed. It can be a good choice for resource-constrained environments while still achieving reasonable accuracy."
      ]
    },
    {
      "cell_type": "code",
      "execution_count": null,
      "id": "a14b6175",
      "metadata": {
        "id": "a14b6175"
      },
      "outputs": [],
      "source": [
        "# Model 3: Transfer Learning using MobileNetV2\n",
        "model3 = Sequential([\n",
        "    MobileNetV2(input_shape=(img_width, img_height, 3), include_top=False),\n",
        "    Flatten(),\n",
        "    Dense(256, activation='relu'),\n",
        "    Dense(num_classes, activation='softmax')\n",
        "])"
      ]
    },
    {
      "cell_type": "code",
      "execution_count": null,
      "id": "e4550b12",
      "metadata": {
        "id": "e4550b12"
      },
      "outputs": [],
      "source": [
        "# Compiling the Model\n",
        "model3.compile(loss='categorical_crossentropy',\n",
        "               optimizer='adam',\n",
        "               metrics=['accuracy'])"
      ]
    },
    {
      "cell_type": "code",
      "execution_count": null,
      "id": "c2f4ab5f",
      "metadata": {
        "id": "c2f4ab5f",
        "outputId": "0e584fbf-47e0-4be2-b985-4cb24c6f8787"
      },
      "outputs": [
        {
          "name": "stdout",
          "output_type": "stream",
          "text": [
            "Epoch 1/50\n",
            "129/129 [==============================] - 234s 2s/step - loss: 3.0812 - accuracy: 0.1574 - val_loss: 87.9579 - val_accuracy: 0.0719\n",
            "Epoch 2/50\n",
            "129/129 [==============================] - 210s 2s/step - loss: 2.1404 - accuracy: 0.2012 - val_loss: 2.2618 - val_accuracy: 0.1313\n",
            "Epoch 3/50\n",
            "129/129 [==============================] - 213s 2s/step - loss: 2.0530 - accuracy: 0.2240 - val_loss: 3.2302 - val_accuracy: 0.1347\n",
            "Epoch 4/50\n",
            "129/129 [==============================] - 215s 2s/step - loss: 2.0222 - accuracy: 0.2400 - val_loss: 3.8897 - val_accuracy: 0.1769\n",
            "Epoch 5/50\n",
            "129/129 [==============================] - 216s 2s/step - loss: 2.0625 - accuracy: 0.2415 - val_loss: 3.8229 - val_accuracy: 0.1564\n",
            "Epoch 6/50\n",
            "129/129 [==============================] - 216s 2s/step - loss: 2.0228 - accuracy: 0.2332 - val_loss: 3.7925 - val_accuracy: 0.1861\n",
            "Epoch 7/50\n",
            "129/129 [==============================] - 206s 2s/step - loss: 1.9229 - accuracy: 0.2726 - val_loss: 4.9248 - val_accuracy: 0.1210\n",
            "Epoch 8/50\n",
            "129/129 [==============================] - 197s 2s/step - loss: 2.0275 - accuracy: 0.2609 - val_loss: 2.4266 - val_accuracy: 0.1826\n",
            "Epoch 9/50\n",
            "129/129 [==============================] - 196s 2s/step - loss: 2.0593 - accuracy: 0.2245 - val_loss: 2.1825 - val_accuracy: 0.1473\n",
            "Epoch 10/50\n",
            "129/129 [==============================] - 194s 2s/step - loss: 1.9607 - accuracy: 0.2362 - val_loss: 2.2486 - val_accuracy: 0.1473\n",
            "Epoch 11/50\n",
            "129/129 [==============================] - 199s 2s/step - loss: 1.9107 - accuracy: 0.2672 - val_loss: 6.9031 - val_accuracy: 0.0651\n",
            "Epoch 12/50\n",
            "129/129 [==============================] - 204s 2s/step - loss: 1.8597 - accuracy: 0.2974 - val_loss: 2.3525 - val_accuracy: 0.1541\n",
            "Epoch 13/50\n",
            "129/129 [==============================] - 202s 2s/step - loss: 1.8489 - accuracy: 0.3071 - val_loss: 2.3282 - val_accuracy: 0.1347\n",
            "Epoch 14/50\n",
            "129/129 [==============================] - 202s 2s/step - loss: 1.8072 - accuracy: 0.3168 - val_loss: 2.1668 - val_accuracy: 0.1518\n",
            "Epoch 15/50\n",
            "129/129 [==============================] - 202s 2s/step - loss: 1.7715 - accuracy: 0.3401 - val_loss: 2.4730 - val_accuracy: 0.1233\n",
            "Epoch 16/50\n",
            "129/129 [==============================] - 202s 2s/step - loss: 1.6962 - accuracy: 0.3693 - val_loss: 2.4079 - val_accuracy: 0.1347\n",
            "Epoch 17/50\n",
            "129/129 [==============================] - 202s 2s/step - loss: 1.7256 - accuracy: 0.3615 - val_loss: 2.1990 - val_accuracy: 0.1438\n",
            "Epoch 18/50\n",
            "129/129 [==============================] - 196s 2s/step - loss: 1.6498 - accuracy: 0.3819 - val_loss: 2.1822 - val_accuracy: 0.1438\n",
            "Epoch 19/50\n",
            "129/129 [==============================] - 194s 2s/step - loss: 1.6924 - accuracy: 0.3722 - val_loss: 5.9063 - val_accuracy: 0.1256\n",
            "Epoch 20/50\n",
            "129/129 [==============================] - 194s 2s/step - loss: 2.1949 - accuracy: 0.1934 - val_loss: 2.1765 - val_accuracy: 0.1461\n",
            "Epoch 21/50\n",
            "129/129 [==============================] - 194s 2s/step - loss: 1.9312 - accuracy: 0.2741 - val_loss: 3.0476 - val_accuracy: 0.1347\n",
            "Epoch 22/50\n",
            "129/129 [==============================] - 194s 2s/step - loss: 1.7880 - accuracy: 0.3387 - val_loss: 2.8763 - val_accuracy: 0.1347\n",
            "Epoch 23/50\n",
            "129/129 [==============================] - 195s 2s/step - loss: 1.7329 - accuracy: 0.3460 - val_loss: 2.1824 - val_accuracy: 0.1438\n",
            "Epoch 24/50\n",
            "129/129 [==============================] - 194s 2s/step - loss: 1.6511 - accuracy: 0.3776 - val_loss: 2.2569 - val_accuracy: 0.1518\n",
            "Epoch 25/50\n",
            "129/129 [==============================] - 194s 2s/step - loss: 1.6471 - accuracy: 0.3989 - val_loss: 2.1893 - val_accuracy: 0.1473\n",
            "Epoch 26/50\n",
            "129/129 [==============================] - 193s 1s/step - loss: 1.5902 - accuracy: 0.4048 - val_loss: 4.8527 - val_accuracy: 0.1461\n",
            "Epoch 27/50\n",
            "129/129 [==============================] - 196s 2s/step - loss: 1.7603 - accuracy: 0.3440 - val_loss: 4.2609 - val_accuracy: 0.1621\n",
            "Epoch 28/50\n",
            "129/129 [==============================] - 208s 2s/step - loss: 1.8050 - accuracy: 0.3382 - val_loss: 3.9942 - val_accuracy: 0.1358\n",
            "Epoch 29/50\n",
            "129/129 [==============================] - 196s 2s/step - loss: 1.6890 - accuracy: 0.3654 - val_loss: 2.3400 - val_accuracy: 0.1553\n",
            "Epoch 30/50\n",
            "129/129 [==============================] - 209s 2s/step - loss: 1.6254 - accuracy: 0.3926 - val_loss: 3.3756 - val_accuracy: 0.1747\n",
            "Epoch 31/50\n",
            "129/129 [==============================] - 214s 2s/step - loss: 1.5970 - accuracy: 0.4033 - val_loss: 4.0979 - val_accuracy: 0.1667\n",
            "Epoch 32/50\n",
            "129/129 [==============================] - 210s 2s/step - loss: 1.5270 - accuracy: 0.4339 - val_loss: 7.8456 - val_accuracy: 0.1096\n",
            "Epoch 33/50\n",
            "129/129 [==============================] - 210s 2s/step - loss: 1.4502 - accuracy: 0.4728 - val_loss: 12.4400 - val_accuracy: 0.0993\n",
            "Epoch 34/50\n",
            "129/129 [==============================] - 210s 2s/step - loss: 1.6254 - accuracy: 0.4145 - val_loss: 13.5073 - val_accuracy: 0.0776\n",
            "Epoch 35/50\n",
            "129/129 [==============================] - 211s 2s/step - loss: 1.8962 - accuracy: 0.3134 - val_loss: 2.8663 - val_accuracy: 0.1039\n",
            "Epoch 36/50\n",
            "129/129 [==============================] - 195s 2s/step - loss: 1.8402 - accuracy: 0.3149 - val_loss: 6.2180 - val_accuracy: 0.1084\n",
            "Epoch 37/50\n",
            "129/129 [==============================] - 211s 2s/step - loss: 1.9610 - accuracy: 0.2779 - val_loss: 2.1917 - val_accuracy: 0.1450\n",
            "Epoch 38/50\n",
            "129/129 [==============================] - 211s 2s/step - loss: 1.8783 - accuracy: 0.3056 - val_loss: 6.3834 - val_accuracy: 0.0639\n",
            "Epoch 39/50\n",
            "129/129 [==============================] - 212s 2s/step - loss: 1.7343 - accuracy: 0.3576 - val_loss: 3.9675 - val_accuracy: 0.1279\n",
            "Epoch 40/50\n",
            "129/129 [==============================] - 214s 2s/step - loss: 1.7473 - accuracy: 0.3625 - val_loss: 2.3443 - val_accuracy: 0.1553\n",
            "Epoch 41/50\n",
            "129/129 [==============================] - 214s 2s/step - loss: 1.6979 - accuracy: 0.3581 - val_loss: 2.4216 - val_accuracy: 0.1518\n",
            "Epoch 42/50\n",
            "129/129 [==============================] - 219s 2s/step - loss: 1.6437 - accuracy: 0.3921 - val_loss: 2.2170 - val_accuracy: 0.1427\n",
            "Epoch 43/50\n",
            "129/129 [==============================] - 219s 2s/step - loss: 1.6960 - accuracy: 0.3946 - val_loss: 15.6613 - val_accuracy: 0.1427\n",
            "Epoch 44/50\n",
            "129/129 [==============================] - 218s 2s/step - loss: 1.7211 - accuracy: 0.3751 - val_loss: 5.0386 - val_accuracy: 0.1279\n",
            "Epoch 45/50\n",
            "129/129 [==============================] - 212s 2s/step - loss: 1.6697 - accuracy: 0.3887 - val_loss: 2.5708 - val_accuracy: 0.1484\n",
            "Epoch 46/50\n",
            "129/129 [==============================] - 192s 1s/step - loss: 1.7372 - accuracy: 0.3649 - val_loss: 3.1585 - val_accuracy: 0.1587\n",
            "Epoch 47/50\n",
            "129/129 [==============================] - 195s 2s/step - loss: 1.9511 - accuracy: 0.2745 - val_loss: 2.3647 - val_accuracy: 0.1450\n",
            "Epoch 48/50\n",
            "129/129 [==============================] - 193s 1s/step - loss: 1.7732 - accuracy: 0.3460 - val_loss: 2.6283 - val_accuracy: 0.1153\n",
            "Epoch 49/50\n",
            "129/129 [==============================] - 196s 2s/step - loss: 1.6694 - accuracy: 0.3839 - val_loss: 3.2830 - val_accuracy: 0.1804\n",
            "Epoch 50/50\n",
            "129/129 [==============================] - 203s 2s/step - loss: 1.6316 - accuracy: 0.3994 - val_loss: 2.1981 - val_accuracy: 0.1815\n"
          ]
        }
      ],
      "source": [
        "# Training the Model\n",
        "history3 = model3.fit(train_generator, validation_data=validation_generator, epochs=50)"
      ]
    },
    {
      "cell_type": "code",
      "execution_count": null,
      "id": "c33be5ed",
      "metadata": {
        "id": "c33be5ed",
        "outputId": "06837ac3-3b0e-423f-dcf9-b7e216b5250d"
      },
      "outputs": [
        {
          "name": "stdout",
          "output_type": "stream",
          "text": [
            "55/55 [==============================] - 16s 285ms/step - loss: 2.2191 - accuracy: 0.1826\n"
          ]
        }
      ],
      "source": [
        "# Evaluating the Model\n",
        "loss3, accuracy3 = model3.evaluate(validation_generator)"
      ]
    },
    {
      "cell_type": "code",
      "execution_count": null,
      "id": "811783c5",
      "metadata": {
        "id": "811783c5",
        "outputId": "5455a66a-a4c0-4db6-e19b-1f54db8eace5"
      },
      "outputs": [
        {
          "name": "stdout",
          "output_type": "stream",
          "text": [
            "Model 3: Validation loss=2.2191, accuracy=0.1826\n"
          ]
        }
      ],
      "source": [
        "print(f\"Model 3: Validation loss={loss3:.4f}, accuracy={accuracy3:.4f}\")"
      ]
    },
    {
      "cell_type": "code",
      "execution_count": null,
      "id": "24d3c3d2",
      "metadata": {
        "id": "24d3c3d2",
        "outputId": "fea991c1-64c8-4202-a822-b6e154bc47ce"
      },
      "outputs": [
        {
          "name": "stdout",
          "output_type": "stream",
          "text": [
            "Simple CNN: Validation loss=3.9355, accuracy=0.4806\n",
            "Pre-trained CNN with fine-tuning: Validation loss=3.0363, accuracy=0.6553\n",
            "Transfer Learning using MobileNetV2: Validation loss=2.2191, accuracy=0.1826\n"
          ]
        }
      ],
      "source": [
        "print(f\"Simple CNN: Validation loss={loss1:.4f}, accuracy={accuracy1:.4f}\")\n",
        "print(f\"Pre-trained CNN with fine-tuning: Validation loss={loss2:.4f}, accuracy={accuracy2:.4f}\")\n",
        "print(f\"Transfer Learning using MobileNetV2: Validation loss={loss3:.4f}, accuracy={accuracy3:.4f}\")\n",
        "\n"
      ]
    },
    {
      "cell_type": "markdown",
      "source": [
        "## Model-4 Single Shot MultiBox Detector (SSD)\n",
        "The mode Single Shot MultiBox Detector (SSD) based on the MobileNetV2 architecture. This is a popular object detection model that's optimized for speed and efficiency. It's capable of detecting multiple objects in a single pass, making it suitable for real-time applications. Specifically, it's pre-trained on the COCO dataset, which contains a wide variety of objects, including cars. The model's purpose here is to identify car logos within images, and it does so by predicting bounding boxes around detected logos along with their corresponding confidence scores."
      ],
      "metadata": {
        "id": "GeMfT4BZkheI"
      },
      "id": "GeMfT4BZkheI"
    },
    {
      "cell_type": "code",
      "source": [
        "import os\n",
        "import cv2\n",
        "import numpy as np\n",
        "import tensorflow as tf\n",
        "\n",
        "\n",
        "\n",
        "model_path = '/content/drive/MyDrive/ssd_mobilenet_v2_fpnlite_320x320_1'\n",
        "model = tf.saved_model.load(model_path)\n",
        "\n",
        "# Define the class IDs for cars\n",
        "car_class_id = 3\n",
        "\n",
        "def detect_logos(image_path):\n",
        "    # Load the image\n",
        "    image = cv2.imread(image_path)\n",
        "    image = cv2.cvtColor(image, cv2.COLOR_BGR2RGB)\n",
        "    image = tf.convert_to_tensor(image)\n",
        "    image = tf.expand_dims(image, axis=0)\n",
        "\n",
        "    # Detect objects in the image\n",
        "    detections = model(image)\n",
        "\n",
        "    # Get the bounding boxes, scores, and class IDs\n",
        "    boxes = detections['detection_boxes'][0].numpy()\n",
        "    scores = detections['detection_scores'][0].numpy()\n",
        "    classes = detections['detection_classes'][0].numpy()\n",
        "\n",
        "    # Filter out car detections\n",
        "    car_boxes = boxes[classes == car_class_id]\n",
        "    car_scores = scores[classes == car_class_id]\n",
        "\n",
        "    return car_boxes, car_scores\n",
        "\n",
        "def draw_boxes(image, boxes):\n",
        "    for box in boxes:\n",
        "        ymin, xmin, ymax, xmax = box\n",
        "        xmin = int(xmin * image.shape[1])\n",
        "        xmax = int(xmax * image.shape[1])\n",
        "        ymin = int(ymin * image.shape[0])\n",
        "        ymax = int(ymax * image.shape[0])\n",
        "        cv2.rectangle(image, (xmin, ymin), (xmax, ymax), (0, 255, 0), 2)\n",
        "    return image\n",
        "\n",
        "def calculate_accuracy(ground_truth_folder):\n",
        "    total_actual = 0\n",
        "    total_detected = 0\n",
        "\n",
        "    for brand in os.listdir(ground_truth_folder):\n",
        "        brand_folder = os.path.join(ground_truth_folder, brand)\n",
        "        actual_count = len(os.listdir(brand_folder))\n",
        "\n",
        "        detected_count = 0\n",
        "\n",
        "        for image_file in os.listdir(brand_folder):\n",
        "            image_path = os.path.join(brand_folder, image_file)\n",
        "            car_boxes, car_scores = detect_logos(image_path)\n",
        "\n",
        "            if len(car_boxes) > 0:\n",
        "                detected_count += 1\n",
        "\n",
        "        total_actual += actual_count\n",
        "        total_detected += detected_count\n",
        "\n",
        "        print(f\"Brand: {brand}\")\n",
        "        print(f\"Total Actual Logos: {actual_count}\")\n",
        "        print(f\"Total Detected Logos: {detected_count}\\n\")\n",
        "\n",
        "    accuracy = (total_detected / total_actual) * 100\n",
        "    print(f\"Total Actual Logos: {total_actual}\")\n",
        "    print(f\"Total Detected Logos: {total_detected}\")\n",
        "    print(\"\\n\")\n",
        "    print(\"------------------------------\")\n",
        "    print(f\"Accuracy: {accuracy:.2f}%\")\n",
        "    print(\"------------------------------\")\n",
        "\n",
        "ground_truth_folder = dataset\n",
        "calculate_accuracy(ground_truth_folder)\n"
      ],
      "metadata": {
        "id": "-ypJLczgfdof",
        "colab": {
          "base_uri": "https://localhost:8080/"
        },
        "outputId": "e3e11f50-c7c0-4dfc-abe2-1a212eb0953c"
      },
      "id": "-ypJLczgfdof",
      "execution_count": null,
      "outputs": [
        {
          "output_type": "stream",
          "name": "stdout",
          "text": [
            "Brand: Tata\n",
            "Total Actual Logos: 372\n",
            "Total Detected Logos: 372\n",
            "\n",
            "Brand: Toyota\n",
            "Total Actual Logos: 433\n",
            "Total Detected Logos: 432\n",
            "\n",
            "Brand: Honday\n",
            "Total Actual Logos: 265\n",
            "Total Detected Logos: 245\n",
            "\n",
            "Brand: Hyundai\n",
            "Total Actual Logos: 321\n",
            "Total Detected Logos: 321\n",
            "\n",
            "Brand: Ford\n",
            "Total Actual Logos: 268\n",
            "Total Detected Logos: 267\n",
            "\n",
            "Brand: Nissan\n",
            "Total Actual Logos: 267\n",
            "Total Detected Logos: 267\n",
            "\n",
            "Brand: Volkswagen\n",
            "Total Actual Logos: 394\n",
            "Total Detected Logos: 394\n",
            "\n",
            "Brand: Suzuki\n",
            "Total Actual Logos: 450\n",
            "Total Detected Logos: 450\n",
            "\n",
            "Brand: Renault\n",
            "Total Actual Logos: 297\n",
            "Total Detected Logos: 297\n",
            "\n",
            "Total Actual Logos: 3067\n",
            "Total Detected Logos: 3045\n",
            "\n",
            "\n",
            "------------------------------\n",
            "Accuracy: 99.28%\n",
            "------------------------------\n"
          ]
        }
      ]
    },
    {
      "cell_type": "markdown",
      "id": "68ba37a6",
      "metadata": {
        "id": "68ba37a6"
      },
      "source": [
        "## Evaluation Metrics:\n",
        "The SSD (Single Shot MultiBox Detector) model has demonstrated exceptional performance with an impressive accuracy of 99.28%. This indicates a highly successful detection of car logos on the validation dataset.\n",
        "\n",
        "### Cost of Running the Model:\n",
        "The SSD model might have a relatively higher computational cost due to its complex architecture and resource-intensive nature. It incorporates a deep neural network for object detection, potentially demanding more computing power compared to simpler models.\n",
        "\n",
        "### Deployment Recommendation:\n",
        "Given the outstanding accuracy achieved by the SSD model, it is the clear choice if precise logo detection is a critical requirement. Despite potentially higher computational costs, the exceptional accuracy justifies its use, especially in scenarios where precision is of paramount importance.\n",
        "\n",
        "In summary, the SSD model, with its extraordinary 99.28% accuracy, is strongly recommended for deployment in applications that demand top-tier logo detection capabilities.\n",
        "\n",
        "\n",
        "\n",
        "\n",
        "\n",
        "Regenerate\n"
      ]
    },
    {
      "cell_type": "code",
      "execution_count": null,
      "id": "dac8283a",
      "metadata": {
        "id": "dac8283a"
      },
      "outputs": [],
      "source": []
    }
  ],
  "metadata": {
    "kernelspec": {
      "display_name": "Python 3 (ipykernel)",
      "language": "python",
      "name": "python3"
    },
    "language_info": {
      "codemirror_mode": {
        "name": "ipython",
        "version": 3
      },
      "file_extension": ".py",
      "mimetype": "text/x-python",
      "name": "python",
      "nbconvert_exporter": "python",
      "pygments_lexer": "ipython3",
      "version": "3.11.0"
    },
    "colab": {
      "provenance": []
    }
  },
  "nbformat": 4,
  "nbformat_minor": 5
}