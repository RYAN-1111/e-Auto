{
  "cells": [
    {
      "cell_type": "markdown",
      "id": "roman-transparency",
      "metadata": {
        "id": "roman-transparency"
      },
      "source": [
        "# Dataset Review and Analysis\n",
        "#### Approach:\n",
        "* Load a sample of images from the dataset.\n",
        "* Analyze each image to determine if the front of the car is visible and if the image is not blurry.\n",
        "* Remove any images that do not meet the defined criteria."
      ]
    },
    {
      "cell_type": "markdown",
      "id": "empirical-organizer",
      "metadata": {
        "id": "empirical-organizer"
      },
      "source": [
        "# Step 1: Data Exploration and Pruning"
      ]
    },
    {
      "cell_type": "code",
      "execution_count": null,
      "id": "nominated-oklahoma",
      "metadata": {
        "id": "nominated-oklahoma",
        "outputId": "74f0eb58-966a-4e82-ad18-bcb2bccf5f30"
      },
      "outputs": [
        {
          "name": "stdout",
          "output_type": "stream",
          "text": [
            "Before Deletion:\n",
            "----------------\n",
            "Ford: 572 images\n",
            "Honday: 45 images\n",
            "Hyundai: 538 images\n",
            "Nissan: 527 images\n",
            "Renault: 570 images\n",
            "Suzuki: 542 images\n",
            "Tata: 483 images\n",
            "Toyota: 596 images\n",
            "Volkswagen: 220 images\n",
            "\n",
            "After Deletion (Manually):\n",
            "-------------------------\n",
            "Ford: 256 images\n",
            "Honday: 18 images\n",
            "Hyundai: 311 images\n",
            "Nissan: 262 images\n",
            "Renault: 294 images\n",
            "Suzuki: 192 images\n",
            "Tata: 180 images\n",
            "Toyota: 187 images\n",
            "Volkswagen: 169 images\n",
            "\n",
            "\n",
            "No of unusable images in Ford: 316\n",
            "No of unusable images in Honday: 27\n",
            "No of unusable images in Hyundai: 227\n",
            "No of unusable images in Nissan: 265\n",
            "No of unusable images in Renault: 276\n",
            "No of unusable images in Suzuki: 350\n",
            "No of unusable images in Tata: 303\n",
            "No of unusable images in Toyota: 409\n",
            "No of unusable images in Volkswagen: 51\n"
          ]
        }
      ],
      "source": [
        "import os\n",
        "import matplotlib.pyplot as plt\n",
        "import cv2\n",
        "import numpy as np\n",
        "import shutil\n",
        "\n",
        "def count_images(folder_path):\n",
        "    image_extensions = ['.jpg', '.jpeg', '.png', '.gif', '.bmp']\n",
        "    image_count = 0\n",
        "\n",
        "    for root, dirs, files in os.walk(folder_path):\n",
        "        for file in files:\n",
        "            if any(file.lower().endswith(ext) for ext in image_extensions):\n",
        "                image_count += 1\n",
        "\n",
        "    return image_count\n",
        "\n",
        "\n",
        "def main():\n",
        "    main_folder_path_before = 'C:\\\\Users\\\\ryanr\\\\Downloads\\\\eAuto_photos (2)\\photos'\n",
        "    main_folder_path_after = 'C:\\\\Intel_Internship\\\\eAuto_photos (2)\\\\photos'\n",
        "    list1=[]\n",
        "    list2=[]\n",
        "\n",
        "    # Before Deletion\n",
        "    print(f'Before Deletion:')\n",
        "    print(\"----------------\")\n",
        "    for folder_name in os.listdir(main_folder_path_before):\n",
        "        folder_path = os.path.join(main_folder_path_before, folder_name)\n",
        "        if os.path.isdir(folder_path):\n",
        "            image_count1 = count_images(folder_path)\n",
        "            list1.append(image_count1)\n",
        "            print(f'{folder_name}: {image_count1} images')\n",
        "\n",
        "\n",
        "    # After Deletion\n",
        "    print(f'\\nAfter Deletion (Manually):')\n",
        "    print(\"-------------------------\")\n",
        "    for folder_name in os.listdir(main_folder_path_after):\n",
        "        folder_path = os.path.join(main_folder_path_after, folder_name)\n",
        "        if os.path.isdir(folder_path):\n",
        "            image_count2 = count_images(folder_path)\n",
        "            print(f'{folder_name}: {image_count2} images')\n",
        "            list2.append(image_count2)\n",
        "    i=0;\n",
        "\n",
        "    print(\"\\n\")\n",
        "    for folder_name in os.listdir(main_folder_path_after):\n",
        "        folder_path = os.path.join(main_folder_path_after, folder_name)\n",
        "        if os.path.isdir(folder_path):\n",
        "            print(f\"No of unusable images in {folder_name}: {list1[i] - list2[i]}\")\n",
        "            i+=1\n",
        "\n",
        "\n",
        "if __name__ == '__main__':\n",
        "    main()"
      ]
    },
    {
      "cell_type": "markdown",
      "id": "exterior-bookmark",
      "metadata": {
        "id": "exterior-bookmark"
      },
      "source": [
        "The dataset exhibits good quality overall, with clear and focused images that are suitable for training models.\n",
        "\n",
        "Editing requirements: While most images are of good quality, a few may benefit from minor adjustments, such as cropping to focus on the car's front or zooming for better visibility.\n",
        "\n",
        "Some of the main challenges to be corrected are:\n",
        "* Standardize the data labels and file names for uniformity.\n",
        "* Remove duplicate images to avoid redundancy."
      ]
    },
    {
      "cell_type": "code",
      "execution_count": null,
      "id": "c3e3af8b",
      "metadata": {
        "id": "c3e3af8b"
      },
      "outputs": [],
      "source": []
    }
  ],
  "metadata": {
    "kernelspec": {
      "display_name": "Python 3 (ipykernel)",
      "language": "python",
      "name": "python3"
    },
    "language_info": {
      "codemirror_mode": {
        "name": "ipython",
        "version": 3
      },
      "file_extension": ".py",
      "mimetype": "text/x-python",
      "name": "python",
      "nbconvert_exporter": "python",
      "pygments_lexer": "ipython3",
      "version": "3.11.0"
    },
    "colab": {
      "provenance": []
    }
  },
  "nbformat": 4,
  "nbformat_minor": 5
}