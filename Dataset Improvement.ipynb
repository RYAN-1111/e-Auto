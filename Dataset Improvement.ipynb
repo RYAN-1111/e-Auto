{
  "cells": [
    {
      "cell_type": "code",
      "execution_count": null,
      "id": "17133633",
      "metadata": {
        "id": "17133633"
      },
      "outputs": [],
      "source": [
        "import os\n",
        "import cv2\n",
        "import numpy as np\n",
        "import random\n"
      ]
    },
    {
      "cell_type": "code",
      "execution_count": null,
      "id": "cf1eb6f8",
      "metadata": {
        "id": "cf1eb6f8",
        "outputId": "49229813-2793-43d0-8be2-82e07d773497"
      },
      "outputs": [
        {
          "name": "stderr",
          "output_type": "stream",
          "text": [
            "C:\\Users\\ryanr\\AppData\\Local\\Temp\\ipykernel_25080\\1039143023.py:16: DeprecationWarning: ANTIALIAS is deprecated and will be removed in Pillow 10 (2023-07-01). Use LANCZOS or Resampling.LANCZOS instead.\n",
            "  zoomed_img = img.resize((new_width, new_height), Image.ANTIALIAS)\n"
          ]
        },
        {
          "name": "stdout",
          "output_type": "stream",
          "text": [
            "Folder 'Honday': 266 images after augmentation\n",
            "Folder 'Toyota': 436 images after augmentation\n",
            "Folder 'Suzuki': 450 images after augmentation\n",
            "Folder 'Volkswagen': 394 images after augmentation\n",
            "Folder 'Tata': 372 images after augmentation\n"
          ]
        }
      ],
      "source": [
        "from PIL import Image, ImageEnhance\n",
        "import os\n",
        "\n",
        "def augment_image(input_image_path, output_image_path):\n",
        "    img = Image.open(input_image_path)\n",
        "\n",
        "    # Convert to RGB mode if the image is in palette mode\n",
        "    if img.mode == \"P\":\n",
        "        img = img.convert(\"RGB\")\n",
        "\n",
        "    # Apply zoom\n",
        "    zoom_factor = 1.2\n",
        "    width, height = img.size\n",
        "    new_width = int(width * zoom_factor)\n",
        "    new_height = int(height * zoom_factor)\n",
        "    zoomed_img = img.resize((new_width, new_height), Image.ANTIALIAS)\n",
        "\n",
        "    # Apply sharpening\n",
        "    enhancer = ImageEnhance.Sharpness(zoomed_img)\n",
        "    sharpened_img = enhancer.enhance(2.0)  # Adjust the sharpness factor as needed\n",
        "\n",
        "    # Apply cropping\n",
        "    left = int(0.1 * new_width)\n",
        "    top = int(0.1 * new_height)\n",
        "    right = int(0.9 * new_width)\n",
        "    bottom = int(0.9 * new_height)\n",
        "    cropped_img = sharpened_img.crop((left, top, right, bottom))\n",
        "\n",
        "    # Save augmented image\n",
        "    cropped_img.save(output_image_path)\n",
        "\n",
        "# Define path to the main folder\n",
        "main_folder = 'C:\\\\Intel_Internship\\\\eAuto_photos (2)\\\\photos'  # Replace with your folder path\n",
        "\n",
        "# Specify folders for augmentation\n",
        "folders_to_augment = ['Honday', 'Toyota','Suzuki','Volkswagen','Tata'] # Add the folders you want to augment\n",
        "\n",
        "# Define target number of images\n",
        "target_num_images = 250\n",
        "\n",
        "# Iterate through specified folders\n",
        "for folder_name in folders_to_augment:\n",
        "    input_folder_path = os.path.join(main_folder, folder_name)\n",
        "    num_images_before = len(os.listdir(input_folder_path))\n",
        "\n",
        "    # Augment images until target number is reached\n",
        "    while num_images_before < target_num_images:\n",
        "        for image_name in os.listdir(input_folder_path):\n",
        "            input_image_path = os.path.join(input_folder_path, image_name)\n",
        "            output_image_path = os.path.join(input_folder_path, f'augmented_{image_name}')\n",
        "            augment_image(input_image_path, output_image_path)\n",
        "\n",
        "        num_images_before = len(os.listdir(input_folder_path))\n",
        "\n",
        "    print(f\"Folder '{folder_name}': {num_images_before} images after augmentation\")\n"
      ]
    },
    {
      "cell_type": "code",
      "execution_count": null,
      "id": "6dab872b",
      "metadata": {
        "id": "6dab872b",
        "outputId": "4944642e-25a4-4deb-b015-1487a94c2e88"
      },
      "outputs": [
        {
          "name": "stdout",
          "output_type": "stream",
          "text": [
            "Folder 'Ford' contains 256 images.\n",
            "Folder 'Honday' contains 252 images.\n",
            "Folder 'Hyundai' contains 311 images.\n",
            "Folder 'Nissan' contains 262 images.\n",
            "Folder 'Renault' contains 294 images.\n",
            "Folder 'Suzuki' contains 423 images.\n",
            "Folder 'Tata' contains 360 images.\n",
            "Folder 'Toyota' contains 421 images.\n",
            "Folder 'Volkswagen' contains 355 images.\n"
          ]
        }
      ],
      "source": [
        "def count_images_in_folder(folder_path):\n",
        "    image_extensions = ['.jpg', '.jpeg', '.png', '.gif', '.bmp', '.tiff']\n",
        "\n",
        "    image_count = 0\n",
        "    for root, dirs, files in os.walk(folder_path):\n",
        "        for file in files:\n",
        "            if os.path.splitext(file)[1].lower() in image_extensions:\n",
        "                image_count += 1\n",
        "\n",
        "    return image_count\n",
        "\n",
        "def count_images_in_each_folder(main_folder):\n",
        "    for folder_name in os.listdir(main_folder):\n",
        "        folder_path = os.path.join(main_folder, folder_name)\n",
        "        if os.path.isdir(folder_path):\n",
        "            image_count = count_images_in_folder(folder_path)\n",
        "            print(f\"Folder '{folder_name}' contains {image_count} images.\")\n",
        "\n",
        "main_folder = 'C:\\\\Intel_Internship\\\\eAuto_photos (2)\\\\photos'\n",
        "count_images_in_each_folder(main_folder)\n"
      ]
    },
    {
      "cell_type": "markdown",
      "id": "cbe20d4c",
      "metadata": {
        "id": "cbe20d4c"
      },
      "source": [
        "Data Quality Issues\n",
        "\n",
        "Hiccup: Some images have low resolution or are blurry.\n",
        "\n",
        "Solution: Implement image enhancement techniques like upscaling or denoising. This can be done using libraries like OpenCV or specialized image processing tools.\n",
        "\n",
        "\n",
        "\n",
        "Dataset Imbalance\n",
        "\n",
        "Hiccup: Some car brands/models have significantly fewer images compared to others.\n",
        "\n",
        "Solution: Perform data augmentation on underrepresented classes to balance the dataset. Techniques like rotation, flipping, and color transformations can help generate synthetic images.\n",
        "\n",
        "\n",
        "\n",
        "Mislabelled Images\n",
        "\n",
        "Hiccup: Some images are labeled with the wrong car brand/model.\n",
        "\n",
        "Solution: Implement a validation process to manually review and correct mislabeled images. This can be done using a graphical interface or by writing custom scripts to facilitate the process.\n",
        "\n",
        "\n",
        "\n",
        "Usability of Images\n",
        "\n",
        "Hiccup: Images don't meet the criteria for usability (e.g., incorrect angle, obscured logo).\n",
        "\n",
        "Solution: Manually review and filter out images that don't meet the defined criteria. Develop a set of rules or criteria for image selection to streamline the process.\n",
        "\n",
        "\n",
        "\n",
        "Manual Editing Requirements\n",
        "\n",
        "Hiccup: Some images require manual adjustments (e.g., cropping, sharpening).\n",
        "\n",
        "Solution: Develop scripts or use image processing libraries to automate common editing tasks. For more complex edits, consider setting up a manual editing pipeline or outsourcing the task to professionals.\n",
        "\n",
        "\n",
        "\n",
        "Data Standardization Challenges\n",
        "\n",
        "Hiccup: Images have inconsistent camera angles or perspectives.\n",
        "\n",
        "Solution: Apply geometric transformations to standardize the viewpoint. Techniques like homography or perspective transformation can be used to align images to a common perspective.\n",
        "\n",
        "\n",
        "\n",
        "Data Augmentation Limitations\n",
        "\n",
        "Hiccup: Some augmentation techniques may not be suitable for certain types of images (e.g., rotation for side views).\n",
        "\n",
        "Solution: Customize augmentation techniques based on the specific characteristics of the images. For example, use rotation and scaling for front-facing images, while employing perspective transformations for side views.\n",
        "\n",
        "\n",
        "\n",
        "Hardware or Resource Limitations\n",
        "\n",
        "Hiccup: Processing large amounts of data may require substantial computing resources.\n",
        "\n",
        "Solution: Consider using cloud-based solutions or distributed computing resources. Optimize code for efficiency and utilize parallel processing where possible.\n",
        "\n",
        "\n",
        "\n",
        "Code Efficiency\n",
        "\n",
        "Hiccup: Code may be inefficient, especially when working with large datasets.\n",
        "\n",
        "Solution: Profile the code to identify bottlenecks and optimize critical sections. Utilize efficient data structures and algorithms to improve code performance."
      ]
    },
    {
      "cell_type": "code",
      "execution_count": null,
      "id": "e8b79cc3",
      "metadata": {
        "id": "e8b79cc3"
      },
      "outputs": [],
      "source": []
    }
  ],
  "metadata": {
    "kernelspec": {
      "display_name": "Python 3 (ipykernel)",
      "language": "python",
      "name": "python3"
    },
    "language_info": {
      "codemirror_mode": {
        "name": "ipython",
        "version": 3
      },
      "file_extension": ".py",
      "mimetype": "text/x-python",
      "name": "python",
      "nbconvert_exporter": "python",
      "pygments_lexer": "ipython3",
      "version": "3.11.0"
    },
    "colab": {
      "provenance": []
    }
  },
  "nbformat": 4,
  "nbformat_minor": 5
}
